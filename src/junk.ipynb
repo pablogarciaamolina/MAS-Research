{
 "cells": [
  {
   "cell_type": "code",
   "execution_count": 2,
   "metadata": {},
   "outputs": [],
   "source": [
    "import os\n",
    "import shutil"
   ]
  },
  {
   "cell_type": "code",
   "execution_count": 11,
   "metadata": {},
   "outputs": [],
   "source": [
    "path = \"./data/Emotion\""
   ]
  },
  {
   "cell_type": "code",
   "execution_count": 14,
   "metadata": {},
   "outputs": [
    {
     "name": "stdout",
     "output_type": "stream",
     "text": [
      "['Ses01F_impro01', 'Ses01F_impro02', 'Ses01F_impro03', 'Ses01F_impro04', 'Ses01F_impro05', 'Ses01F_impro06', 'Ses01F_impro07', 'Ses01F_script01_1', 'Ses01F_script01_2', 'Ses01F_script01_3', 'Ses01F_script02_1', 'Ses01F_script02_2', 'Ses01F_script03_1', 'Ses01F_script03_2', 'Ses01M_impro01', 'Ses01M_impro02', 'Ses01M_impro03', 'Ses01M_impro04', 'Ses01M_impro05', 'Ses01M_impro06', 'Ses01M_impro07', 'Ses01M_script01_1', 'Ses01M_script01_2', 'Ses01M_script01_3', 'Ses01M_script02_1', 'Ses01M_script02_2', 'Ses01M_script03_1', 'Ses01M_script03_2']\n",
      "28\n"
     ]
    }
   ],
   "source": [
    "i = 0\n",
    "stored_scenes = []\n",
    "\n",
    "for filename in os.listdir(path):\n",
    "    if filename.endswith(\".txt\"):\n",
    "        # See if the file is not stored already\n",
    "        if \"_\".join(filename.split(\"_\")[:-2]) not in stored_scenes:\n",
    "            stored_scenes.append(\"_\".join(filename.split(\"_\")[:-2]))\n",
    "            i += 1\n",
    "\n",
    "print(stored_scenes)\n",
    "print(i)"
   ]
  },
  {
   "cell_type": "code",
   "execution_count": 5,
   "metadata": {},
   "outputs": [
    {
     "name": "stdout",
     "output_type": "stream",
     "text": [
      "Ses01M_script01_3\n"
     ]
    }
   ],
   "source": [
    "with open()\n",
    "    # Join all the elements (with underscores) but the last two\n",
    "    print(\"_\".join(cad.split(\"_\")[:-2]))"
   ]
  },
  {
   "cell_type": "code",
   "execution_count": 15,
   "metadata": {},
   "outputs": [
    {
     "name": "stdout",
     "output_type": "stream",
     "text": [
      "28\n"
     ]
    }
   ],
   "source": [
    "class Junk:\n",
    "    def __init__(self):\n",
    "        self.audio_files = os.listdir(\"data/Audio\")\n",
    "\n",
    "    def __len__(self):\n",
    "        return len(self.audio_files)\n",
    "    \n",
    "\n",
    "j = Junk()\n",
    "print(len(j))"
   ]
  },
  {
   "cell_type": "code",
   "execution_count": 18,
   "metadata": {},
   "outputs": [
    {
     "name": "stdout",
     "output_type": "stream",
     "text": [
      "Utterances:\n",
      "\t- Ses01M_script01_1_F000 [008.0600-011.5914]: What he's going to say?\n",
      "\t- Ses01M_script01_1_M000 [011.4962-014.8175]: He saw it.\n",
      "\t- Ses01M_script01_1_F001 [014.4000-016.6181]: When?\n",
      "\t- Ses01M_script01_1_M001 [016.2300-019.5441]: He was out here at four this morning.\n",
      "\t- Ses01M_script01_1_F002 [019.2815-023.9200]: How could he see it?  I was the first one up and he was still in bed.\n",
      "\t- Ses01M_script01_1_M002 [023.6500-029.7850]: I was out here at four this morning I heard a crack and I looked out the window and he was standing right over there.\n",
      "\t- Ses01M_script01_1_F003 [029.3349-033.2000]: What was he doing here at four in the morning?\n",
      "\t- Ses01M_script01_1_M003 [032.9700-039.3100]: I don't know.  But he went back in the kitchen and he cried.\n",
      "\t- Ses01M_script01_1_F004 [039.7634-042.1267]: Did you talk to him?\n",
      "\t- Ses01M_script01_1_M004 [041.6100-046.5800]: No.  I figured I'd just let it wait.\n",
      "\t- Ses01M_script01_1_F005 [047.3034-050.4170]: Cried hard?\n",
      "\t- Ses01M_script01_1_M005 [050.5400-055.6600]: Yeah, I could hear him crying through the floorboards in my room.\n",
      "\t- Ses01M_script01_1_F006 [056.6816-058.8948]: [BREATHING]\n",
      "\t- Ses01M_script01_1_F007 [059.1300-062.7211]: What is he doing out here at that hour?\n",
      "\t- Ses01M_script01_1_M006 [062.8336-064.8400]: I don't know.\n",
      "\t- Ses01M_script01_1_F008 [064.2400-069.2483]: He's dreaming about him again, walking the streets.\n",
      "\t- Ses01M_script01_1_M007 [069.4734-072.3994]: I guess he is.\n",
      "\t- Ses01M_script01_1_F009 [072.3725-077.4625]: It's getting to be just like after he died.  What is the meaning of that?\n",
      "\t- Ses01M_script01_1_M008 [076.7000-082.3525]: I don't know the meaning of it.  But I know we've made terrible mistake with father.\n",
      "\t- Ses01M_script01_1_F010 [081.8100-084.0400]: What?\n",
      "\t- Ses01M_script01_1_M009 [084.2534-092.2060]: I mean, these kinds of things, man they always come back at you.  And this is definitely coming back to us.\n",
      "\t- Ses01M_script01_1_F011 [091.9059-095.3200]: What do you mean a mistake?\n",
      "\t- Ses01M_script01_1_M010 [095.9573-106.3450]: I just--why shouldn't he walk the nights waiting for him, huh?  Do we contradict him do we say we don't have any hope any more that he's not coming back?\n",
      "\t- Ses01M_script01_1_F012 [105.8606-108.8100]: What do you want to do, argue with him?\n",
      "\t- Ses01M_script01_1_M011 [107.9600-118.7275]: I don't want to argue with him, it's just for God's sake it's time he realized that no one believes with him any more.\n",
      "\t- Ses01M_script01_1_F013 [118.3898-120.8400]: You can't say that to him.\n",
      "\t- Ses01M_script01_1_M012 [120.3100-122.6200]: I got to.\n",
      "\t- Ses01M_script01_1_F014 [122.4600-128.7433]: What, can you prove it?  What proof do you have?  Can you prove it?\n",
      "\t- Ses01M_script01_1_M013 [128.2182-135.4200]: For God's sake, three years?  Nobody comes back after three years. It's insane.\n",
      "\t- Ses01M_script01_1_F015 [134.6600-145.9650]: To you it is, to me it is.  But to your father?  You can talk yourself 'til you're blue in the face but there's was no grave and there is no body.  So where are you?\n",
      "\t- Ses01M_script01_1_M014 [145.3600-151.1800]: Okay, all right.  Mom, sit down.  I want to talk to you.\n",
      "\t- Ses01M_script01_1_F016 [149.0800-155.9500]: The trouble is those god damn news papers.  Every month some boy comes back missing longer then Larry so--\n",
      "\t- Ses01M_script01_1_M015 [154.6500-165.3300]: Yeah, okay all right, all right.  Listen, um, you know why I asked Annie here, right?\n",
      "\t- Ses01M_script01_1_F017 [166.3800-168.4175]: Why?\n",
      "\t- Ses01M_script01_1_M016 [168.6450-170.3700]: You know.\n",
      "\t- Ses01M_script01_1_F018 [170.0400-174.8088]: Well, I've got an idea but what's the story?\n",
      "\t- Ses01M_script01_1_M017 [175.6100-179.2900]: I'm going to ask her to marry me.\n",
      "\t- Ses01M_script01_1_F019 [179.6100-183.7800]: Well, that's only your business, Chris.\n",
      "\t- Ses01M_script01_1_M018 [183.1900-185.7400]: You know it's not just my business.\n",
      "\t- Ses01M_script01_1_F020 [185.1200-188.7900]: Well, what do you want me to do?  You're old enough known your own business.\n",
      "\t- Ses01M_script01_1_M019 [187.8000-190.5600]: So it's okay then?  I'm just going to go ahead with it?\n",
      "\t- Ses01M_script01_1_F021 [189.8700-192.8600]: You want to make sure that your father's not going to...\n",
      "\t- Ses01M_script01_1_M020 [192.2400-204.6689]: See.  Then it's not just my business. Sometimes you infuriate me, you know that?  You know it's just your business too if I tell father and he throws a fit about it, huh?\n",
      "\t- Ses01M_script01_1_F022 [194.2750-196.5900]: I'm just saying.\n",
      "\t- Ses01M_script01_1_F023 [204.2938-212.0300]: I'm sorry.  I ignore what I've got to ignore. That girl is Larry's girl.\n",
      "\t- Ses01M_script01_1_M021 [210.7800-213.8300]: She is not Larry's girl.\n",
      "\t- Ses01M_script01_1_F024 [213.1000-226.1500]: From father's point of view he is not dead and you have no right to take his girl.  I'm just saying that you can go on from there if you know where to go but I'm saying I don't know where to go.  See, I don't know.\n",
      "\t- Ses01M_script01_1_M022 [234.2400-241.2200]: I don't know why it is you know every time I reach out for something I have to pull back 'cause I'm afraid it's going to hurt somebody.  All my life...\n",
      "\t- Ses01M_script01_1_F025 [240.5600-244.1900]: You're a considerate fellow.  There's nothing wrong in that.\n",
      "\t- Ses01M_script01_1_M023 [243.5500-245.9000]: To hell with that.\n",
      "\t- Ses01M_script01_1_F026 [247.1332-251.1095]: Did you ask Annie yet?\n",
      "\t- Ses01M_script01_1_M024 [250.7344-254.3490]: No, I wanted to get this all sorted out first.\n",
      "\t- Ses01M_script01_1_F027 [253.5400-258.8275]: Well, how do you know she's going to marry you?  Maybe she feels same way your father does.\n",
      "\t- Ses01M_script01_1_M025 [258.2900-267.6200]: Well, if she does then that's the end of it.  However from her letters I think she's pretty much forgotten him.\n",
      "\t- Ses01M_script01_1_F028 [268.7405-274.2300]: The trouble is you don't see enough women, you never did.\n",
      "\t- Ses01M_script01_1_M026 [273.3900-277.8500]: So what?  I'm just--I'm not fast with women.\n",
      "\t- Ses01M_script01_1_F029 [278.1000-281.2100]: I don't see why it has to be Annie.\n",
      "\t- Ses01M_script01_1_M027 [280.3900-282.4625]: Because it is.\n",
      "\t- Ses01M_script01_1_F030 [281.5900-289.5300]: That's a good answer but it doesn't answer anything.  You haven't seen her since you went away to war, it's been five years.\n",
      "\t- Ses01M_script01_1_M028 [288.4200-295.5900]: I don't know, it I think of her, I grew up next to her.  She is what I think of when I think of a wife.\n",
      "\t- Ses01M_script01_1_F031 [299.1800-308.3500]: He thinks he's coming back, Chris.  You marry that girl you're pronouncing him dead.\n",
      "\t- Ses01M_script01_1_F032 [308.4800-315.0500]: Do you know what that'll do to you, to your father, do you know?  I don't.\n",
      "\t- Ses01M_script01_1_M029 [319.9500-321.9700]: All right then.\n",
      "\t- Ses01M_script01_1_F033 [321.4200-323.4650]: Give it some more thought.\n",
      "\t- Ses01M_script01_1_M030 [322.8200-329.9700]: I've given it lots of thought.  And I keep coming back to the same thing.\n",
      "\t- Ses01M_script01_1_M031 [334.5001-346.8900]: When I think of a family, when I think of my future I see Annie in the center of that and you know and if that can't happen here then I'll go somewhere else.\n",
      "\t- Ses01M_script01_1_F034 [346.5500-349.1200]: What the hell is this?\n",
      "\t- Ses01M_script01_1_M032 [348.5200-353.4525]: I'll leave.  I'll get married and move somewhere else maybe New York.\n",
      "\t- Ses01M_script01_1_F035 [352.8800-356.2574]: Are you crazy?\n",
      "\t- Ses01M_script01_1_M033 [356.5200-359.2584]: I'll do it.\n",
      "\t- Ses01M_script01_1_F036 [359.0800-364.8550]: You have a business here.  I said what the hell is this?\n",
      "\t- Ses01M_script01_1_M034 [364.2500-368.5500]: Business?  The business doesn't inspire me.\n",
      "\t- Ses01M_script01_1_F037 [367.5400-370.9500]: Oh, must you be inspired.\n",
      "\t- Ses01M_script01_1_M035 [369.3000-380.4900]: Yes, yes I like it for one hour a day.  I don't care if I have to grub for money all day long when I come home I want it nice, I want a family, I want to kids and Annie is in the center of that.\n",
      "\t- Ses01M_script01_1_M036 [380.6425-383.3415]: If that can't happen here...\n",
      "\t- Ses01M_script01_1_F038 [384.2043-389.9700]: You mean to tell me you would leave the business for this.\n",
      "\t- Ses01M_script01_1_M037 [389.2000-392.1500]: Yes, on this I would.\n",
      "\t- Ses01M_script01_1_F039 [391.9425-394.8650]: Well, you don't want to think like that.\n",
      "\t- Ses01M_script01_1_M038 [394.4000-397.0800]: Then help me stay here mom.\n",
      "\t- Ses01M_script01_1_F040 [397.1175-408.9800]: All right but you don't think like that because what the hell is this all for.  This is all for you, what are we working for Chris? The whole shooting match is for you.\n",
      "\t- Ses01M_script01_1_M039 [405.1800-407.5100]: I know, I know.\n",
      "\t- Ses01M_script01_1_M040 [408.0000-410.1525]: Then help me stay.\n",
      "\t- Ses01M_script01_1_F041 [410.0300-412.8900]: Well, you don't think like that.\n",
      "\t- Ses01M_script01_1_M041 [412.1300-414.7800]: I am thinking like that.\n",
      "\t- Ses01M_script01_1_F042 [415.0800-418.9410]: I don't understand you, do I?\n",
      "\t- Ses01M_script01_1_M042 [418.6034-423.2925]: No, you don't.  I'm a pretty tough guy.\n",
      "\t- Ses01M_script01_1_F043 [422.8798-426.0309]: Well, I can see that.\n"
     ]
    }
   ],
   "source": [
    "with open(\"data/Not_Sorted_Text/Ses01M_script01_1.txt\", \"r\") as f:\n",
    "    lines = f.readlines()\n",
    "    print(\"Utterances:\")\n",
    "    for line in lines:\n",
    "        print(\"\\t- \" + line.strip())"
   ]
  },
  {
   "cell_type": "code",
   "execution_count": 3,
   "metadata": {},
   "outputs": [
    {
     "name": "stdout",
     "output_type": "stream",
     "text": [
      "['Ses01F_impro01_F000.txt', 'Ses01F_impro01_F001.txt', 'Ses01F_impro01_F002.txt', 'Ses01F_impro01_F003.txt', 'Ses01F_impro01_F004.txt', 'Ses01F_impro01_F005.txt', 'Ses01F_impro01_F006.txt', 'Ses01F_impro01_F007.txt', 'Ses01F_impro01_F008.txt', 'Ses01F_impro01_F009.txt']\n",
      "['Ses01F_impro01_F000.wav', 'Ses01F_impro01_F001.wav', 'Ses01F_impro01_F002.wav', 'Ses01F_impro01_F003.wav', 'Ses01F_impro01_F004.wav', 'Ses01F_impro01_F005.wav', 'Ses01F_impro01_F006.wav', 'Ses01F_impro01_F007.wav', 'Ses01F_impro01_F008.wav', 'Ses01F_impro01_F009.wav']\n",
      "['Ses01F_impro01_F000.txt', 'Ses01F_impro01_F001.txt', 'Ses01F_impro01_F002.txt', 'Ses01F_impro01_F003.txt', 'Ses01F_impro01_F004.txt', 'Ses01F_impro01_F005.txt', 'Ses01F_impro01_F006.txt', 'Ses01F_impro01_F007.txt', 'Ses01F_impro01_F008.txt', 'Ses01F_impro01_F009.txt']\n"
     ]
    }
   ],
   "source": [
    "list_audios = os.listdir(\"data/Audio\")\n",
    "list_text = os.listdir(\"data/Text\")\n",
    "list_emotion = os.listdir(\"data/Emotion/Utterances\")"
   ]
  }
 ],
 "metadata": {
  "kernelspec": {
   "display_name": "Python 3",
   "language": "python",
   "name": "python3"
  },
  "language_info": {
   "codemirror_mode": {
    "name": "ipython",
    "version": 3
   },
   "file_extension": ".py",
   "mimetype": "text/x-python",
   "name": "python",
   "nbconvert_exporter": "python",
   "pygments_lexer": "ipython3",
   "version": "3.11.0"
  }
 },
 "nbformat": 4,
 "nbformat_minor": 2
}
